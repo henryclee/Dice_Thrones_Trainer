{
 "cells": [
  {
   "cell_type": "code",
   "execution_count": 90,
   "metadata": {},
   "outputs": [],
   "source": [
    "from fractions import Fraction\n",
    "from itertools import combinations, combinations_with_replacement, product, permutations\n",
    "# from typing import *\n",
    "import math\n",
    "# import random\n",
    "from collections import Counter, defaultdict"
   ]
  },
  {
   "cell_type": "code",
   "execution_count": null,
   "metadata": {},
   "outputs": [],
   "source": [
    "Die = {1,2,3,4,5,6}\n",
    "Dtype = {'FLAME', 'BLAZE', 'FIERY_SOUL', 'METEOR'}\n",
    "DDict = {1: 'FLAME', 2: 'FLAME', 3: 'FLAME', 4: 'BLAZE', 5: 'FIERY_SOUL', 6: 'METEOR'}\n",
    "\n",
    "fireball1 = ['FLAME', 'FLAME', 'FLAME']\n",
    "fireball2 = ['FLAME', 'FLAME', 'FLAME', 'FLAME']\n",
    "fireball3 = ['FLAME', 'FLAME', 'FLAME', 'FLAME', 'FLAME']\n",
    "pyroblast = ['FLAME', 'FLAME', 'FLAME', 'METEOR']\n",
    "burning_soul = ['FIERY_SOUL', 'FIERY_SOUL']\n",
    "combustion = ['FLAME', 'BLAZE', 'FIERY_SOUL', 'METEOR']\n",
    "meteorite = ['METEOR', 'METEOR', 'METEOR', 'METEOR']\n",
    "ultimate = ['METEOR', 'METEOR', 'METEOR', 'METEOR', 'METEOR']\n",
    "\n",
    "hot_streak = [[1,2,3,4], [2,3,4,5], [3,4,5,6]]\n",
    "ignite = [[1,2,3,4,5], [2,3,4,5,6]]\n",
    "\n",
    "attack_list = {\n",
    "    \"Fireball1\" : fireball1,\n",
    "    \"Fireball2\" : fireball2,\n",
    "    \"Fireball3\" : fireball3,\n",
    "    \"Pyroblast\" : pyroblast,\n",
    "    \"Burning Soul\" : burning_soul,\n",
    "    \"Combustion\" : combustion,\n",
    "    \"Meteorite\" : meteorite,\n",
    "    \"Ultimate\" : ultimate,\n",
    "    }\n",
    "\n",
    "straight_list = {\"Hot Streak\" : hot_streak, \"Ignite\" : ignite}\n"
   ]
  },
  {
   "cell_type": "code",
   "execution_count": null,
   "metadata": {},
   "outputs": [
    {
     "name": "stdout",
     "output_type": "stream",
     "text": [
      "Hit anything has 93.52% chance of success. Keep (1, 1) and reroll (4, 4, 6)\n",
      "Fireball1 has 87.50% chance of success. Keep (1, 1) and reroll (4, 4, 6)\n",
      "Pyroblast has 75.00% chance of success. Keep (1, 1, 6) and reroll (4, 4)\n",
      "Fireball2 has 50.00% chance of success. Keep (1, 1) and reroll (4, 4, 6)\n",
      "Combustion has 33.33% chance of success. Keep (4, 6) and reroll (1, 1, 4)\n",
      "Hot Streak has 21.30% chance of success. Keep (4,) and reroll (1, 1, 4, 6)\n",
      "Burning Soul has 19.62% chance of success. Keep () and reroll (1, 1, 4, 4, 6)\n",
      "Fireball3 has 12.50% chance of success. Keep (1, 1) and reroll (4, 4, 6)\n",
      "Ignite has 3.70% chance of success. Keep (4,) and reroll (1, 1, 4, 6)\n",
      "Meteorite has 1.62% chance of success. Keep (6,) and reroll (1, 1, 4, 4)\n",
      "Ultimate has 0.08% chance of success. Keep (6,) and reroll (1, 1, 4, 4)\n"
     ]
    }
   ],
   "source": [
    "# Takes the dice as numbers, and returns a list of strings of the types\n",
    "def dieToType(die:list[int]) -> list[str]:\n",
    "    return [DDict[d] for d in die]\n",
    "\n",
    "# Given the dice as numbers, returns the valid attacks\n",
    "def valid_attacks(die:list[int]) -> list[str]:\n",
    "    dtypes = dieToType(die)\n",
    "    valid_attacks = [\n",
    "        att for att, att_list in attack_list.items() if all(dtypes.count(x) >= att_list.count(x) for x in set(att_list))\n",
    "    ]\n",
    "    straights = [\n",
    "        att for att, str_list in straight_list.items() if any(all(die.count(x) >= s.count(x) for x in s) for s in str_list)\n",
    "    ]\n",
    "    return valid_attacks + straights\n",
    "\n",
    "\n",
    "\n",
    "# Sort and return a tuple, so (1,2)->(1,2) and (2,1)->(1,2)\n",
    "def sort_tuple(t:tuple):\n",
    "    t = list(t)\n",
    "    t.sort()\n",
    "    return tuple(t)\n",
    "\n",
    "# Helper function to return which dice are unchanged given a reroll\n",
    "def unchanged(die:list, reroll:list):\n",
    "    unch = []\n",
    "    die_count = Counter(die)\n",
    "    reroll_count = Counter(reroll)\n",
    "    for k in reroll_count:\n",
    "        die_count[k] -= reroll_count[k]\n",
    "    for k in die_count:\n",
    "        unch.extend([k] * die_count[k])\n",
    "    return tuple(unch)\n",
    "\n",
    "# Reroll k dice, return a list of tuples, rerolled dice, unchanged dice\n",
    "def reroll_combs_k(die:list[int],k):\n",
    "    die.sort()\n",
    "    reroll = list(combinations(die,k))\n",
    "    reroll = list(set([sort_tuple(t) for t in reroll]))\n",
    "    unch = [unchanged(die, r) for r in reroll]\n",
    "    return reroll, unch\n",
    "\n",
    "# Calculate the possible reroll combinations\n",
    "# Return a pair of lists of tuples, rerolled dice, unchanged dice\n",
    "def reroll_combs(die:list[int]):\n",
    "    reroll = []\n",
    "    unch = []\n",
    "    for i in range(6):\n",
    "        r, u = reroll_combs_k(die, i)\n",
    "        reroll.append(r)\n",
    "        unch.append(u)\n",
    "    return [reroll, unch]\n",
    "\n",
    "#Brute force for now, given a list of die, roll the rest and return all the possible outcomes, including dups\n",
    "def roll_dice(die:list):\n",
    "    k = 5 - len(die)\n",
    "    answer = []\n",
    "    for p in product(range(1,7), repeat=k):\n",
    "        die_p = die + list(p)\n",
    "        die_p.sort()\n",
    "        answer.append(die_p)\n",
    "    return answer\n",
    "\n",
    "#Given a list of dice roll permutations, calculate the odds of rolling different attacks,\n",
    "#and chance of hitting something\n",
    "def roll_odds(die_p:list):\n",
    "    denom = len(die_p)\n",
    "    probs = []\n",
    "    attacks = defaultdict(int)\n",
    "    hit = 0\n",
    "\n",
    "    for d in die_p:\n",
    "        attlist = valid_attacks(d)\n",
    "        for a in attlist:\n",
    "            attacks[a] += 1\n",
    "        if attlist:\n",
    "            hit += 1\n",
    "\n",
    "    for att, cnt in attacks.items():\n",
    "        probs.append([att, cnt/denom])\n",
    "\n",
    "    probs.append([\"Hit anything\", hit / denom])\n",
    "\n",
    "    return probs\n",
    "\n",
    "#Given the current roll, calculate the moves that give the best odds of hitting each move\n",
    "def find_best_move(die):\n",
    "\n",
    "    best_odds = {}\n",
    "\n",
    "    reroll_lol, unch_lol = reroll_combs(die)\n",
    "\n",
    "    for reroll_list, unch_list in zip(reroll_lol, unch_lol):\n",
    "        for reroll, unch in zip(reroll_list, unch_list):\n",
    "            d_perms = roll_dice(list(unch))\n",
    "            probs = roll_odds(d_perms)\n",
    "            for att, prob in probs:\n",
    "                if not best_odds.get(att, []) or prob > best_odds[att][0][0]:\n",
    "                    best_odds[att] = [[prob, unch, reroll]]\n",
    "                elif prob == 1:\n",
    "                    best_odds[att].append([prob, unch, reroll])\n",
    "\n",
    "    return best_odds\n",
    "\n",
    "    \n",
    "\n",
    "def best_move(die):\n",
    "    \n",
    "    best_odds = find_best_move(die)\n",
    "    best_moves = []\n",
    "    for attack, move_list in best_odds.items():\n",
    "        best_moves.append([attack, move_list])\n",
    "\n",
    "    best_moves.sort(key = lambda x: x[1][0], reverse = True)\n",
    "\n",
    "    for attack, move_list in best_moves:\n",
    "        for prob, unch, reroll in move_list:\n",
    "            print(f'{attack} has {prob*100:.2f}% chance of success. Keep {unch} and reroll {reroll}')\n",
    "\n",
    "best_move([1,1,4,4,6])\n"
   ]
  },
  {
   "cell_type": "code",
   "execution_count": 65,
   "metadata": {},
   "outputs": [
    {
     "name": "stdout",
     "output_type": "stream",
     "text": [
      "You entered: hello\n"
     ]
    }
   ],
   "source": [
    "# Using input in Jupyter\n",
    "user_input = input(\"Enter a number: \")\n",
    "print(f\"You entered: {user_input}\")\n"
   ]
  },
  {
   "cell_type": "code",
   "execution_count": 6,
   "metadata": {},
   "outputs": [
    {
     "name": "stdout",
     "output_type": "stream",
     "text": [
      "252\n",
      "56\n"
     ]
    }
   ],
   "source": [
    "# Combination with repetition formula of n states, r repetitions\n",
    "# C(n+r-1,r)\n",
    "\n",
    "print(math.comb(6+5-1,5))\n",
    "print(math.comb(4+5-1,5))"
   ]
  },
  {
   "cell_type": "code",
   "execution_count": 26,
   "metadata": {},
   "outputs": [
    {
     "name": "stdout",
     "output_type": "stream",
     "text": [
      "[(1, 1, 1, 1, 1), (1, 1, 1, 1, 2), (1, 1, 1, 1, 3), (1, 1, 1, 1, 4), (1, 1, 1, 1, 5), (1, 1, 1, 1, 6), (1, 1, 1, 2, 2), (1, 1, 1, 2, 3), (1, 1, 1, 2, 4), (1, 1, 1, 2, 5), (1, 1, 1, 2, 6), (1, 1, 1, 3, 3), (1, 1, 1, 3, 4), (1, 1, 1, 3, 5), (1, 1, 1, 3, 6), (1, 1, 1, 4, 4), (1, 1, 1, 4, 5), (1, 1, 1, 4, 6), (1, 1, 1, 5, 5), (1, 1, 1, 5, 6), (1, 1, 1, 6, 6), (1, 1, 2, 2, 2), (1, 1, 2, 2, 3), (1, 1, 2, 2, 4), (1, 1, 2, 2, 5), (1, 1, 2, 2, 6), (1, 1, 2, 3, 3), (1, 1, 2, 3, 4), (1, 1, 2, 3, 5), (1, 1, 2, 3, 6), (1, 1, 2, 4, 4), (1, 1, 2, 4, 5), (1, 1, 2, 4, 6), (1, 1, 2, 5, 5), (1, 1, 2, 5, 6), (1, 1, 2, 6, 6), (1, 1, 3, 3, 3), (1, 1, 3, 3, 4), (1, 1, 3, 3, 5), (1, 1, 3, 3, 6), (1, 1, 3, 4, 4), (1, 1, 3, 4, 5), (1, 1, 3, 4, 6), (1, 1, 3, 5, 5), (1, 1, 3, 5, 6), (1, 1, 3, 6, 6), (1, 1, 4, 4, 4), (1, 1, 4, 4, 5), (1, 1, 4, 4, 6), (1, 1, 4, 5, 5), (1, 1, 4, 5, 6), (1, 1, 4, 6, 6), (1, 1, 5, 5, 5), (1, 1, 5, 5, 6), (1, 1, 5, 6, 6), (1, 1, 6, 6, 6), (1, 2, 2, 2, 2), (1, 2, 2, 2, 3), (1, 2, 2, 2, 4), (1, 2, 2, 2, 5), (1, 2, 2, 2, 6), (1, 2, 2, 3, 3), (1, 2, 2, 3, 4), (1, 2, 2, 3, 5), (1, 2, 2, 3, 6), (1, 2, 2, 4, 4), (1, 2, 2, 4, 5), (1, 2, 2, 4, 6), (1, 2, 2, 5, 5), (1, 2, 2, 5, 6), (1, 2, 2, 6, 6), (1, 2, 3, 3, 3), (1, 2, 3, 3, 4), (1, 2, 3, 3, 5), (1, 2, 3, 3, 6), (1, 2, 3, 4, 4), (1, 2, 3, 4, 5), (1, 2, 3, 4, 6), (1, 2, 3, 5, 5), (1, 2, 3, 5, 6), (1, 2, 3, 6, 6), (1, 2, 4, 4, 4), (1, 2, 4, 4, 5), (1, 2, 4, 4, 6), (1, 2, 4, 5, 5), (1, 2, 4, 5, 6), (1, 2, 4, 6, 6), (1, 2, 5, 5, 5), (1, 2, 5, 5, 6), (1, 2, 5, 6, 6), (1, 2, 6, 6, 6), (1, 3, 3, 3, 3), (1, 3, 3, 3, 4), (1, 3, 3, 3, 5), (1, 3, 3, 3, 6), (1, 3, 3, 4, 4), (1, 3, 3, 4, 5), (1, 3, 3, 4, 6), (1, 3, 3, 5, 5), (1, 3, 3, 5, 6), (1, 3, 3, 6, 6), (1, 3, 4, 4, 4), (1, 3, 4, 4, 5), (1, 3, 4, 4, 6), (1, 3, 4, 5, 5), (1, 3, 4, 5, 6), (1, 3, 4, 6, 6), (1, 3, 5, 5, 5), (1, 3, 5, 5, 6), (1, 3, 5, 6, 6), (1, 3, 6, 6, 6), (1, 4, 4, 4, 4), (1, 4, 4, 4, 5), (1, 4, 4, 4, 6), (1, 4, 4, 5, 5), (1, 4, 4, 5, 6), (1, 4, 4, 6, 6), (1, 4, 5, 5, 5), (1, 4, 5, 5, 6), (1, 4, 5, 6, 6), (1, 4, 6, 6, 6), (1, 5, 5, 5, 5), (1, 5, 5, 5, 6), (1, 5, 5, 6, 6), (1, 5, 6, 6, 6), (1, 6, 6, 6, 6), (2, 2, 2, 2, 2), (2, 2, 2, 2, 3), (2, 2, 2, 2, 4), (2, 2, 2, 2, 5), (2, 2, 2, 2, 6), (2, 2, 2, 3, 3), (2, 2, 2, 3, 4), (2, 2, 2, 3, 5), (2, 2, 2, 3, 6), (2, 2, 2, 4, 4), (2, 2, 2, 4, 5), (2, 2, 2, 4, 6), (2, 2, 2, 5, 5), (2, 2, 2, 5, 6), (2, 2, 2, 6, 6), (2, 2, 3, 3, 3), (2, 2, 3, 3, 4), (2, 2, 3, 3, 5), (2, 2, 3, 3, 6), (2, 2, 3, 4, 4), (2, 2, 3, 4, 5), (2, 2, 3, 4, 6), (2, 2, 3, 5, 5), (2, 2, 3, 5, 6), (2, 2, 3, 6, 6), (2, 2, 4, 4, 4), (2, 2, 4, 4, 5), (2, 2, 4, 4, 6), (2, 2, 4, 5, 5), (2, 2, 4, 5, 6), (2, 2, 4, 6, 6), (2, 2, 5, 5, 5), (2, 2, 5, 5, 6), (2, 2, 5, 6, 6), (2, 2, 6, 6, 6), (2, 3, 3, 3, 3), (2, 3, 3, 3, 4), (2, 3, 3, 3, 5), (2, 3, 3, 3, 6), (2, 3, 3, 4, 4), (2, 3, 3, 4, 5), (2, 3, 3, 4, 6), (2, 3, 3, 5, 5), (2, 3, 3, 5, 6), (2, 3, 3, 6, 6), (2, 3, 4, 4, 4), (2, 3, 4, 4, 5), (2, 3, 4, 4, 6), (2, 3, 4, 5, 5), (2, 3, 4, 5, 6), (2, 3, 4, 6, 6), (2, 3, 5, 5, 5), (2, 3, 5, 5, 6), (2, 3, 5, 6, 6), (2, 3, 6, 6, 6), (2, 4, 4, 4, 4), (2, 4, 4, 4, 5), (2, 4, 4, 4, 6), (2, 4, 4, 5, 5), (2, 4, 4, 5, 6), (2, 4, 4, 6, 6), (2, 4, 5, 5, 5), (2, 4, 5, 5, 6), (2, 4, 5, 6, 6), (2, 4, 6, 6, 6), (2, 5, 5, 5, 5), (2, 5, 5, 5, 6), (2, 5, 5, 6, 6), (2, 5, 6, 6, 6), (2, 6, 6, 6, 6), (3, 3, 3, 3, 3), (3, 3, 3, 3, 4), (3, 3, 3, 3, 5), (3, 3, 3, 3, 6), (3, 3, 3, 4, 4), (3, 3, 3, 4, 5), (3, 3, 3, 4, 6), (3, 3, 3, 5, 5), (3, 3, 3, 5, 6), (3, 3, 3, 6, 6), (3, 3, 4, 4, 4), (3, 3, 4, 4, 5), (3, 3, 4, 4, 6), (3, 3, 4, 5, 5), (3, 3, 4, 5, 6), (3, 3, 4, 6, 6), (3, 3, 5, 5, 5), (3, 3, 5, 5, 6), (3, 3, 5, 6, 6), (3, 3, 6, 6, 6), (3, 4, 4, 4, 4), (3, 4, 4, 4, 5), (3, 4, 4, 4, 6), (3, 4, 4, 5, 5), (3, 4, 4, 5, 6), (3, 4, 4, 6, 6), (3, 4, 5, 5, 5), (3, 4, 5, 5, 6), (3, 4, 5, 6, 6), (3, 4, 6, 6, 6), (3, 5, 5, 5, 5), (3, 5, 5, 5, 6), (3, 5, 5, 6, 6), (3, 5, 6, 6, 6), (3, 6, 6, 6, 6), (4, 4, 4, 4, 4), (4, 4, 4, 4, 5), (4, 4, 4, 4, 6), (4, 4, 4, 5, 5), (4, 4, 4, 5, 6), (4, 4, 4, 6, 6), (4, 4, 5, 5, 5), (4, 4, 5, 5, 6), (4, 4, 5, 6, 6), (4, 4, 6, 6, 6), (4, 5, 5, 5, 5), (4, 5, 5, 5, 6), (4, 5, 5, 6, 6), (4, 5, 6, 6, 6), (4, 6, 6, 6, 6), (5, 5, 5, 5, 5), (5, 5, 5, 5, 6), (5, 5, 5, 6, 6), (5, 5, 6, 6, 6), (5, 6, 6, 6, 6), (6, 6, 6, 6, 6)]\n",
      "252\n",
      "[('FLAME', 'FLAME', 'FLAME', 'FLAME', 'FLAME'), ('FLAME', 'FLAME', 'FLAME', 'FLAME', 'BLAZE'), ('FLAME', 'FLAME', 'FLAME', 'FLAME', 'FIERY_SOUL'), ('FLAME', 'FLAME', 'FLAME', 'FLAME', 'METEOR'), ('FLAME', 'FLAME', 'FLAME', 'BLAZE', 'BLAZE'), ('FLAME', 'FLAME', 'FLAME', 'BLAZE', 'FIERY_SOUL'), ('FLAME', 'FLAME', 'FLAME', 'BLAZE', 'METEOR'), ('FLAME', 'FLAME', 'FLAME', 'FIERY_SOUL', 'FIERY_SOUL'), ('FLAME', 'FLAME', 'FLAME', 'FIERY_SOUL', 'METEOR'), ('FLAME', 'FLAME', 'FLAME', 'METEOR', 'METEOR'), ('FLAME', 'FLAME', 'BLAZE', 'BLAZE', 'BLAZE'), ('FLAME', 'FLAME', 'BLAZE', 'BLAZE', 'FIERY_SOUL'), ('FLAME', 'FLAME', 'BLAZE', 'BLAZE', 'METEOR'), ('FLAME', 'FLAME', 'BLAZE', 'FIERY_SOUL', 'FIERY_SOUL'), ('FLAME', 'FLAME', 'BLAZE', 'FIERY_SOUL', 'METEOR'), ('FLAME', 'FLAME', 'BLAZE', 'METEOR', 'METEOR'), ('FLAME', 'FLAME', 'FIERY_SOUL', 'FIERY_SOUL', 'FIERY_SOUL'), ('FLAME', 'FLAME', 'FIERY_SOUL', 'FIERY_SOUL', 'METEOR'), ('FLAME', 'FLAME', 'FIERY_SOUL', 'METEOR', 'METEOR'), ('FLAME', 'FLAME', 'METEOR', 'METEOR', 'METEOR'), ('FLAME', 'BLAZE', 'BLAZE', 'BLAZE', 'BLAZE'), ('FLAME', 'BLAZE', 'BLAZE', 'BLAZE', 'FIERY_SOUL'), ('FLAME', 'BLAZE', 'BLAZE', 'BLAZE', 'METEOR'), ('FLAME', 'BLAZE', 'BLAZE', 'FIERY_SOUL', 'FIERY_SOUL'), ('FLAME', 'BLAZE', 'BLAZE', 'FIERY_SOUL', 'METEOR'), ('FLAME', 'BLAZE', 'BLAZE', 'METEOR', 'METEOR'), ('FLAME', 'BLAZE', 'FIERY_SOUL', 'FIERY_SOUL', 'FIERY_SOUL'), ('FLAME', 'BLAZE', 'FIERY_SOUL', 'FIERY_SOUL', 'METEOR'), ('FLAME', 'BLAZE', 'FIERY_SOUL', 'METEOR', 'METEOR'), ('FLAME', 'BLAZE', 'METEOR', 'METEOR', 'METEOR'), ('FLAME', 'FIERY_SOUL', 'FIERY_SOUL', 'FIERY_SOUL', 'FIERY_SOUL'), ('FLAME', 'FIERY_SOUL', 'FIERY_SOUL', 'FIERY_SOUL', 'METEOR'), ('FLAME', 'FIERY_SOUL', 'FIERY_SOUL', 'METEOR', 'METEOR'), ('FLAME', 'FIERY_SOUL', 'METEOR', 'METEOR', 'METEOR'), ('FLAME', 'METEOR', 'METEOR', 'METEOR', 'METEOR'), ('BLAZE', 'BLAZE', 'BLAZE', 'BLAZE', 'BLAZE'), ('BLAZE', 'BLAZE', 'BLAZE', 'BLAZE', 'FIERY_SOUL'), ('BLAZE', 'BLAZE', 'BLAZE', 'BLAZE', 'METEOR'), ('BLAZE', 'BLAZE', 'BLAZE', 'FIERY_SOUL', 'FIERY_SOUL'), ('BLAZE', 'BLAZE', 'BLAZE', 'FIERY_SOUL', 'METEOR'), ('BLAZE', 'BLAZE', 'BLAZE', 'METEOR', 'METEOR'), ('BLAZE', 'BLAZE', 'FIERY_SOUL', 'FIERY_SOUL', 'FIERY_SOUL'), ('BLAZE', 'BLAZE', 'FIERY_SOUL', 'FIERY_SOUL', 'METEOR'), ('BLAZE', 'BLAZE', 'FIERY_SOUL', 'METEOR', 'METEOR'), ('BLAZE', 'BLAZE', 'METEOR', 'METEOR', 'METEOR'), ('BLAZE', 'FIERY_SOUL', 'FIERY_SOUL', 'FIERY_SOUL', 'FIERY_SOUL'), ('BLAZE', 'FIERY_SOUL', 'FIERY_SOUL', 'FIERY_SOUL', 'METEOR'), ('BLAZE', 'FIERY_SOUL', 'FIERY_SOUL', 'METEOR', 'METEOR'), ('BLAZE', 'FIERY_SOUL', 'METEOR', 'METEOR', 'METEOR'), ('BLAZE', 'METEOR', 'METEOR', 'METEOR', 'METEOR'), ('FIERY_SOUL', 'FIERY_SOUL', 'FIERY_SOUL', 'FIERY_SOUL', 'FIERY_SOUL'), ('FIERY_SOUL', 'FIERY_SOUL', 'FIERY_SOUL', 'FIERY_SOUL', 'METEOR'), ('FIERY_SOUL', 'FIERY_SOUL', 'FIERY_SOUL', 'METEOR', 'METEOR'), ('FIERY_SOUL', 'FIERY_SOUL', 'METEOR', 'METEOR', 'METEOR'), ('FIERY_SOUL', 'METEOR', 'METEOR', 'METEOR', 'METEOR'), ('METEOR', 'METEOR', 'METEOR', 'METEOR', 'METEOR')]\n",
      "56\n"
     ]
    }
   ],
   "source": [
    "die = [1,2,3,4,5,6]\n",
    "dtype = ['FLAME', 'BLAZE', 'FIERY_SOUL', 'METEOR']\n",
    "print(list(combinations_with_replacement(die,5)))\n",
    "print(len(list(combinations_with_replacement(die,5))))\n",
    "\n",
    "print(list(combinations_with_replacement(dtype,5)))\n",
    "print(len(list(combinations_with_replacement(dtype,5))))\n"
   ]
  }
 ],
 "metadata": {
  "kernelspec": {
   "display_name": "Python 3",
   "language": "python",
   "name": "python3"
  },
  "language_info": {
   "codemirror_mode": {
    "name": "ipython",
    "version": 3
   },
   "file_extension": ".py",
   "mimetype": "text/x-python",
   "name": "python",
   "nbconvert_exporter": "python",
   "pygments_lexer": "ipython3",
   "version": "3.11.3"
  }
 },
 "nbformat": 4,
 "nbformat_minor": 2
}
