{
 "cells": [
  {
   "cell_type": "code",
   "execution_count": null,
   "metadata": {},
   "outputs": [],
   "source": [
    "from fractions import Fraction\n",
    "from itertools import combinations_with_replacement, product\n",
    "from typing import *\n",
    "import math\n",
    "# import random"
   ]
  },
  {
   "cell_type": "code",
   "execution_count": 1,
   "metadata": {},
   "outputs": [],
   "source": [
    "Space = set # A sample space is a set of all possible outcomes\n",
    "Event = set # An event is a subset of the sample space"
   ]
  },
  {
   "cell_type": "code",
   "execution_count": null,
   "metadata": {},
   "outputs": [],
   "source": [
    "def P(event: Event, space: Space) -> Fraction:\n",
    "    \"\"\"The probability of an event, given a sample space:\n",
    "    the number of favorable cases divided by the number of all the cases possible.\"\"\"\n",
    "    return Fraction(number_cases(favorable(event, space)),\n",
    "                    number_cases(space))\n",
    "\n",
    "favorable    = set.intersection # Favorable cases are in the event and also in the sample space\n",
    "\n",
    "number_cases = len "
   ]
  },
  {
   "cell_type": "code",
   "execution_count": null,
   "metadata": {},
   "outputs": [],
   "source": [
    "class Dist(Counter):\n",
    "    \"A Distribution of {outcome: frequency} pairs.\"\n",
    "\n",
    "Space = Union[set, Dist]\n",
    "\n",
    "def number_cases(outcomes) -> float:\n",
    "    \"\"\"The total frequency of all the outcomes.\"\"\"\n",
    "    return sum(cast(outcomes, Dist).values())\n",
    "\n",
    "def favorable(event: Event, space: Space) -> Dist:\n",
    "    \"\"\"A distribution of outcomes from the sample space that are in the event.\"\"\"\n",
    "    space = cast(space, Dist)\n",
    "    return Dist({x: space[x] for x in space if x in event})\n",
    "\n",
    "def Fraction(n, d): return n / d\n",
    "\n",
    "def cast(object, typ: Type) -> object:\n",
    "    \"\"\"Convert `object` to `typ`, unless it is already of type `typ`.\"\"\"\n",
    "    return object if isinstance(object, typ) else typ(object)\n",
    "\n",
    "Event = Union[set, Callable]\n",
    "\n",
    "def favorable(event, space):\n",
    "    \"\"\"A distribution of outcomes from the sample space that are in the event.\"\"\"\n",
    "    if callable(event):\n",
    "        event = {x for x in space if event(x)}\n",
    "    space = cast(space, Dist)\n",
    "    return Dist({x: space[x] for x in space if x in event})"
   ]
  },
  {
   "cell_type": "code",
   "execution_count": null,
   "metadata": {},
   "outputs": [],
   "source": [
    "Dice = {1,2,3,4,5,6}\n",
    "Dtype = {'FLAME', 'BLAZE', 'FIERY_SOUL', 'METEOR'}\n",
    "DDict = {1: 'FLAME', 2: 'FLAME', 3: 'FLAME', 4: 'BLAZE', 5: 'FIERY_SOUL', 6: 'METEOR'}\n",
    "\n",
    "Fireball1 = ['FLAME', 'FLAME', 'FLAME']\n",
    "Fireball2 = ['FLAME', 'FLAME', 'FLAME', 'FLAME']\n",
    "Fireball3 = ['FLAME', 'FLAME', 'FLAME', 'FLAME', 'FLAME']\n",
    "\n",
    "Pyroblast = ['FLAME', 'FLAME', 'FLAME', 'METEOR']\n",
    "Burning_Soul = ['FIERY_SOUL', 'FIERY_SOUL']\n",
    "Combustion = ['FLAME', 'BLAZE', 'FIERY_SOUL', 'METEOR']\n",
    "Hot_Streak = [[1,2,3,4], [2,3,4,5], [3,4,5,6]]\n",
    "Ignite = [[1,2,3,4,5], [2,3,4,5,6]]\n",
    "Meteorite = ['METEOR', 'METEOR', 'METEOR', 'METEOR']\n",
    "Ultimate = ['METEOR', 'METEOR', 'METEOR', 'METEOR', 'METEOR']"
   ]
  },
  {
   "cell_type": "code",
   "execution_count": 6,
   "metadata": {},
   "outputs": [
    {
     "name": "stdout",
     "output_type": "stream",
     "text": [
      "252\n",
      "56\n"
     ]
    }
   ],
   "source": [
    "# Combination with repetition formula of n states, r repetitions\n",
    "# C(n+r-1,r)\n",
    "\n",
    "print(math.comb(6+5-1,5))\n",
    "print(math.comb(4+5-1,5))"
   ]
  },
  {
   "cell_type": "code",
   "execution_count": 26,
   "metadata": {},
   "outputs": [
    {
     "name": "stdout",
     "output_type": "stream",
     "text": [
      "[(1, 1, 1, 1, 1), (1, 1, 1, 1, 2), (1, 1, 1, 1, 3), (1, 1, 1, 1, 4), (1, 1, 1, 1, 5), (1, 1, 1, 1, 6), (1, 1, 1, 2, 2), (1, 1, 1, 2, 3), (1, 1, 1, 2, 4), (1, 1, 1, 2, 5), (1, 1, 1, 2, 6), (1, 1, 1, 3, 3), (1, 1, 1, 3, 4), (1, 1, 1, 3, 5), (1, 1, 1, 3, 6), (1, 1, 1, 4, 4), (1, 1, 1, 4, 5), (1, 1, 1, 4, 6), (1, 1, 1, 5, 5), (1, 1, 1, 5, 6), (1, 1, 1, 6, 6), (1, 1, 2, 2, 2), (1, 1, 2, 2, 3), (1, 1, 2, 2, 4), (1, 1, 2, 2, 5), (1, 1, 2, 2, 6), (1, 1, 2, 3, 3), (1, 1, 2, 3, 4), (1, 1, 2, 3, 5), (1, 1, 2, 3, 6), (1, 1, 2, 4, 4), (1, 1, 2, 4, 5), (1, 1, 2, 4, 6), (1, 1, 2, 5, 5), (1, 1, 2, 5, 6), (1, 1, 2, 6, 6), (1, 1, 3, 3, 3), (1, 1, 3, 3, 4), (1, 1, 3, 3, 5), (1, 1, 3, 3, 6), (1, 1, 3, 4, 4), (1, 1, 3, 4, 5), (1, 1, 3, 4, 6), (1, 1, 3, 5, 5), (1, 1, 3, 5, 6), (1, 1, 3, 6, 6), (1, 1, 4, 4, 4), (1, 1, 4, 4, 5), (1, 1, 4, 4, 6), (1, 1, 4, 5, 5), (1, 1, 4, 5, 6), (1, 1, 4, 6, 6), (1, 1, 5, 5, 5), (1, 1, 5, 5, 6), (1, 1, 5, 6, 6), (1, 1, 6, 6, 6), (1, 2, 2, 2, 2), (1, 2, 2, 2, 3), (1, 2, 2, 2, 4), (1, 2, 2, 2, 5), (1, 2, 2, 2, 6), (1, 2, 2, 3, 3), (1, 2, 2, 3, 4), (1, 2, 2, 3, 5), (1, 2, 2, 3, 6), (1, 2, 2, 4, 4), (1, 2, 2, 4, 5), (1, 2, 2, 4, 6), (1, 2, 2, 5, 5), (1, 2, 2, 5, 6), (1, 2, 2, 6, 6), (1, 2, 3, 3, 3), (1, 2, 3, 3, 4), (1, 2, 3, 3, 5), (1, 2, 3, 3, 6), (1, 2, 3, 4, 4), (1, 2, 3, 4, 5), (1, 2, 3, 4, 6), (1, 2, 3, 5, 5), (1, 2, 3, 5, 6), (1, 2, 3, 6, 6), (1, 2, 4, 4, 4), (1, 2, 4, 4, 5), (1, 2, 4, 4, 6), (1, 2, 4, 5, 5), (1, 2, 4, 5, 6), (1, 2, 4, 6, 6), (1, 2, 5, 5, 5), (1, 2, 5, 5, 6), (1, 2, 5, 6, 6), (1, 2, 6, 6, 6), (1, 3, 3, 3, 3), (1, 3, 3, 3, 4), (1, 3, 3, 3, 5), (1, 3, 3, 3, 6), (1, 3, 3, 4, 4), (1, 3, 3, 4, 5), (1, 3, 3, 4, 6), (1, 3, 3, 5, 5), (1, 3, 3, 5, 6), (1, 3, 3, 6, 6), (1, 3, 4, 4, 4), (1, 3, 4, 4, 5), (1, 3, 4, 4, 6), (1, 3, 4, 5, 5), (1, 3, 4, 5, 6), (1, 3, 4, 6, 6), (1, 3, 5, 5, 5), (1, 3, 5, 5, 6), (1, 3, 5, 6, 6), (1, 3, 6, 6, 6), (1, 4, 4, 4, 4), (1, 4, 4, 4, 5), (1, 4, 4, 4, 6), (1, 4, 4, 5, 5), (1, 4, 4, 5, 6), (1, 4, 4, 6, 6), (1, 4, 5, 5, 5), (1, 4, 5, 5, 6), (1, 4, 5, 6, 6), (1, 4, 6, 6, 6), (1, 5, 5, 5, 5), (1, 5, 5, 5, 6), (1, 5, 5, 6, 6), (1, 5, 6, 6, 6), (1, 6, 6, 6, 6), (2, 2, 2, 2, 2), (2, 2, 2, 2, 3), (2, 2, 2, 2, 4), (2, 2, 2, 2, 5), (2, 2, 2, 2, 6), (2, 2, 2, 3, 3), (2, 2, 2, 3, 4), (2, 2, 2, 3, 5), (2, 2, 2, 3, 6), (2, 2, 2, 4, 4), (2, 2, 2, 4, 5), (2, 2, 2, 4, 6), (2, 2, 2, 5, 5), (2, 2, 2, 5, 6), (2, 2, 2, 6, 6), (2, 2, 3, 3, 3), (2, 2, 3, 3, 4), (2, 2, 3, 3, 5), (2, 2, 3, 3, 6), (2, 2, 3, 4, 4), (2, 2, 3, 4, 5), (2, 2, 3, 4, 6), (2, 2, 3, 5, 5), (2, 2, 3, 5, 6), (2, 2, 3, 6, 6), (2, 2, 4, 4, 4), (2, 2, 4, 4, 5), (2, 2, 4, 4, 6), (2, 2, 4, 5, 5), (2, 2, 4, 5, 6), (2, 2, 4, 6, 6), (2, 2, 5, 5, 5), (2, 2, 5, 5, 6), (2, 2, 5, 6, 6), (2, 2, 6, 6, 6), (2, 3, 3, 3, 3), (2, 3, 3, 3, 4), (2, 3, 3, 3, 5), (2, 3, 3, 3, 6), (2, 3, 3, 4, 4), (2, 3, 3, 4, 5), (2, 3, 3, 4, 6), (2, 3, 3, 5, 5), (2, 3, 3, 5, 6), (2, 3, 3, 6, 6), (2, 3, 4, 4, 4), (2, 3, 4, 4, 5), (2, 3, 4, 4, 6), (2, 3, 4, 5, 5), (2, 3, 4, 5, 6), (2, 3, 4, 6, 6), (2, 3, 5, 5, 5), (2, 3, 5, 5, 6), (2, 3, 5, 6, 6), (2, 3, 6, 6, 6), (2, 4, 4, 4, 4), (2, 4, 4, 4, 5), (2, 4, 4, 4, 6), (2, 4, 4, 5, 5), (2, 4, 4, 5, 6), (2, 4, 4, 6, 6), (2, 4, 5, 5, 5), (2, 4, 5, 5, 6), (2, 4, 5, 6, 6), (2, 4, 6, 6, 6), (2, 5, 5, 5, 5), (2, 5, 5, 5, 6), (2, 5, 5, 6, 6), (2, 5, 6, 6, 6), (2, 6, 6, 6, 6), (3, 3, 3, 3, 3), (3, 3, 3, 3, 4), (3, 3, 3, 3, 5), (3, 3, 3, 3, 6), (3, 3, 3, 4, 4), (3, 3, 3, 4, 5), (3, 3, 3, 4, 6), (3, 3, 3, 5, 5), (3, 3, 3, 5, 6), (3, 3, 3, 6, 6), (3, 3, 4, 4, 4), (3, 3, 4, 4, 5), (3, 3, 4, 4, 6), (3, 3, 4, 5, 5), (3, 3, 4, 5, 6), (3, 3, 4, 6, 6), (3, 3, 5, 5, 5), (3, 3, 5, 5, 6), (3, 3, 5, 6, 6), (3, 3, 6, 6, 6), (3, 4, 4, 4, 4), (3, 4, 4, 4, 5), (3, 4, 4, 4, 6), (3, 4, 4, 5, 5), (3, 4, 4, 5, 6), (3, 4, 4, 6, 6), (3, 4, 5, 5, 5), (3, 4, 5, 5, 6), (3, 4, 5, 6, 6), (3, 4, 6, 6, 6), (3, 5, 5, 5, 5), (3, 5, 5, 5, 6), (3, 5, 5, 6, 6), (3, 5, 6, 6, 6), (3, 6, 6, 6, 6), (4, 4, 4, 4, 4), (4, 4, 4, 4, 5), (4, 4, 4, 4, 6), (4, 4, 4, 5, 5), (4, 4, 4, 5, 6), (4, 4, 4, 6, 6), (4, 4, 5, 5, 5), (4, 4, 5, 5, 6), (4, 4, 5, 6, 6), (4, 4, 6, 6, 6), (4, 5, 5, 5, 5), (4, 5, 5, 5, 6), (4, 5, 5, 6, 6), (4, 5, 6, 6, 6), (4, 6, 6, 6, 6), (5, 5, 5, 5, 5), (5, 5, 5, 5, 6), (5, 5, 5, 6, 6), (5, 5, 6, 6, 6), (5, 6, 6, 6, 6), (6, 6, 6, 6, 6)]\n",
      "252\n",
      "[('FLAME', 'FLAME', 'FLAME', 'FLAME', 'FLAME'), ('FLAME', 'FLAME', 'FLAME', 'FLAME', 'BLAZE'), ('FLAME', 'FLAME', 'FLAME', 'FLAME', 'FIERY_SOUL'), ('FLAME', 'FLAME', 'FLAME', 'FLAME', 'METEOR'), ('FLAME', 'FLAME', 'FLAME', 'BLAZE', 'BLAZE'), ('FLAME', 'FLAME', 'FLAME', 'BLAZE', 'FIERY_SOUL'), ('FLAME', 'FLAME', 'FLAME', 'BLAZE', 'METEOR'), ('FLAME', 'FLAME', 'FLAME', 'FIERY_SOUL', 'FIERY_SOUL'), ('FLAME', 'FLAME', 'FLAME', 'FIERY_SOUL', 'METEOR'), ('FLAME', 'FLAME', 'FLAME', 'METEOR', 'METEOR'), ('FLAME', 'FLAME', 'BLAZE', 'BLAZE', 'BLAZE'), ('FLAME', 'FLAME', 'BLAZE', 'BLAZE', 'FIERY_SOUL'), ('FLAME', 'FLAME', 'BLAZE', 'BLAZE', 'METEOR'), ('FLAME', 'FLAME', 'BLAZE', 'FIERY_SOUL', 'FIERY_SOUL'), ('FLAME', 'FLAME', 'BLAZE', 'FIERY_SOUL', 'METEOR'), ('FLAME', 'FLAME', 'BLAZE', 'METEOR', 'METEOR'), ('FLAME', 'FLAME', 'FIERY_SOUL', 'FIERY_SOUL', 'FIERY_SOUL'), ('FLAME', 'FLAME', 'FIERY_SOUL', 'FIERY_SOUL', 'METEOR'), ('FLAME', 'FLAME', 'FIERY_SOUL', 'METEOR', 'METEOR'), ('FLAME', 'FLAME', 'METEOR', 'METEOR', 'METEOR'), ('FLAME', 'BLAZE', 'BLAZE', 'BLAZE', 'BLAZE'), ('FLAME', 'BLAZE', 'BLAZE', 'BLAZE', 'FIERY_SOUL'), ('FLAME', 'BLAZE', 'BLAZE', 'BLAZE', 'METEOR'), ('FLAME', 'BLAZE', 'BLAZE', 'FIERY_SOUL', 'FIERY_SOUL'), ('FLAME', 'BLAZE', 'BLAZE', 'FIERY_SOUL', 'METEOR'), ('FLAME', 'BLAZE', 'BLAZE', 'METEOR', 'METEOR'), ('FLAME', 'BLAZE', 'FIERY_SOUL', 'FIERY_SOUL', 'FIERY_SOUL'), ('FLAME', 'BLAZE', 'FIERY_SOUL', 'FIERY_SOUL', 'METEOR'), ('FLAME', 'BLAZE', 'FIERY_SOUL', 'METEOR', 'METEOR'), ('FLAME', 'BLAZE', 'METEOR', 'METEOR', 'METEOR'), ('FLAME', 'FIERY_SOUL', 'FIERY_SOUL', 'FIERY_SOUL', 'FIERY_SOUL'), ('FLAME', 'FIERY_SOUL', 'FIERY_SOUL', 'FIERY_SOUL', 'METEOR'), ('FLAME', 'FIERY_SOUL', 'FIERY_SOUL', 'METEOR', 'METEOR'), ('FLAME', 'FIERY_SOUL', 'METEOR', 'METEOR', 'METEOR'), ('FLAME', 'METEOR', 'METEOR', 'METEOR', 'METEOR'), ('BLAZE', 'BLAZE', 'BLAZE', 'BLAZE', 'BLAZE'), ('BLAZE', 'BLAZE', 'BLAZE', 'BLAZE', 'FIERY_SOUL'), ('BLAZE', 'BLAZE', 'BLAZE', 'BLAZE', 'METEOR'), ('BLAZE', 'BLAZE', 'BLAZE', 'FIERY_SOUL', 'FIERY_SOUL'), ('BLAZE', 'BLAZE', 'BLAZE', 'FIERY_SOUL', 'METEOR'), ('BLAZE', 'BLAZE', 'BLAZE', 'METEOR', 'METEOR'), ('BLAZE', 'BLAZE', 'FIERY_SOUL', 'FIERY_SOUL', 'FIERY_SOUL'), ('BLAZE', 'BLAZE', 'FIERY_SOUL', 'FIERY_SOUL', 'METEOR'), ('BLAZE', 'BLAZE', 'FIERY_SOUL', 'METEOR', 'METEOR'), ('BLAZE', 'BLAZE', 'METEOR', 'METEOR', 'METEOR'), ('BLAZE', 'FIERY_SOUL', 'FIERY_SOUL', 'FIERY_SOUL', 'FIERY_SOUL'), ('BLAZE', 'FIERY_SOUL', 'FIERY_SOUL', 'FIERY_SOUL', 'METEOR'), ('BLAZE', 'FIERY_SOUL', 'FIERY_SOUL', 'METEOR', 'METEOR'), ('BLAZE', 'FIERY_SOUL', 'METEOR', 'METEOR', 'METEOR'), ('BLAZE', 'METEOR', 'METEOR', 'METEOR', 'METEOR'), ('FIERY_SOUL', 'FIERY_SOUL', 'FIERY_SOUL', 'FIERY_SOUL', 'FIERY_SOUL'), ('FIERY_SOUL', 'FIERY_SOUL', 'FIERY_SOUL', 'FIERY_SOUL', 'METEOR'), ('FIERY_SOUL', 'FIERY_SOUL', 'FIERY_SOUL', 'METEOR', 'METEOR'), ('FIERY_SOUL', 'FIERY_SOUL', 'METEOR', 'METEOR', 'METEOR'), ('FIERY_SOUL', 'METEOR', 'METEOR', 'METEOR', 'METEOR'), ('METEOR', 'METEOR', 'METEOR', 'METEOR', 'METEOR')]\n",
      "56\n"
     ]
    }
   ],
   "source": [
    "die = [1,2,3,4,5,6]\n",
    "dtype = ['FLAME', 'BLAZE', 'FIERY_SOUL', 'METEOR']\n",
    "print(list(combinations_with_replacement(die,5)))\n",
    "print(len(list(combinations_with_replacement(die,5))))\n",
    "\n",
    "print(list(combinations_with_replacement(dtype,5)))\n",
    "print(len(list(combinations_with_replacement(dtype,5))))\n"
   ]
  }
 ],
 "metadata": {
  "kernelspec": {
   "display_name": "Python 3",
   "language": "python",
   "name": "python3"
  },
  "language_info": {
   "codemirror_mode": {
    "name": "ipython",
    "version": 3
   },
   "file_extension": ".py",
   "mimetype": "text/x-python",
   "name": "python",
   "nbconvert_exporter": "python",
   "pygments_lexer": "ipython3",
   "version": "3.11.3"
  }
 },
 "nbformat": 4,
 "nbformat_minor": 2
}
